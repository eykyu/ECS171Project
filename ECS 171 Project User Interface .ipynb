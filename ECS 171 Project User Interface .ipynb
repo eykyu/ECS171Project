{
 "cells": [
  {
   "cell_type": "code",
   "execution_count": 1,
   "metadata": {},
   "outputs": [],
   "source": [
    "# !jupyter nbextension enable --py widgetsnbextension --sys-prefix\n",
    "# !jupyter serverextension enable voila --sys-prefix"
   ]
  },
  {
   "cell_type": "code",
   "execution_count": 2,
   "metadata": {},
   "outputs": [],
   "source": [
    "import warnings\n",
    "warnings.filterwarnings('ignore')\n",
    "\n",
    "import ipywidgets as widgets\n",
    "from IPython.display import display, clear_output"
   ]
  },
  {
   "cell_type": "code",
   "execution_count": 3,
   "metadata": {},
   "outputs": [],
   "source": [
    "file = open(\"heartBeatCrimsonIcon.jpg\", \"rb\")\n",
    "image = file.read()\n",
    "\n",
    "image_headline = widgets.Image(\n",
    "                    value=image,\n",
    "                    format='jpg',\n",
    "                    width='300'\n",
    "                )\n",
    "\n",
    "label_headline = widgets.Label(\n",
    "                    value='Photo by Harvard School of Public Health',\n",
    "                    style={'description_width': 'initial'}\n",
    "                )\n",
    "\n",
    "vbox_headline = widgets.VBox([image_headline, label_headline])"
   ]
  },
  {
   "cell_type": "code",
   "execution_count": 4,
   "metadata": {},
   "outputs": [],
   "source": [
    "text_0 = widgets.HTML(value=\"<h1>Predicting heart disease with a logistic regression model</h1>\")\n",
    "text_1 = widgets.HTML(value=\"<h4>Enter your health information below. The output is the model's prediction of whether you have heart disease.</h4>\")"
   ]
  },
  {
   "cell_type": "code",
   "execution_count": 5,
   "metadata": {},
   "outputs": [],
   "source": [
    "style = {'description_width': 'initial'}\n",
    "\n",
    "age = widgets.FloatText(\n",
    "        description='Enter age:',\n",
    "        layout={'width': 'max-content'},\n",
    "        style=style\n",
    "    )\n",
    "\n",
    "text_3 = widgets.HTML(value=\"What is your biological sex?\")\n",
    "\n",
    "sex = widgets.ToggleButtons(\n",
    "        options=[('Female', 1), ('Male', 0)]\n",
    "    )\n",
    "\n",
    "cp = widgets.RadioButtons(\n",
    "    description='What type of chest pain do you have?',\n",
    "    options=[('Typical angina', 1), ('Atypical angina', 2),('Non-anginal pain',3),('Asymptomatic',4)],\n",
    "    value=1,\n",
    "    layout={'width': 'max-content'},\n",
    "    style=style\n",
    ")\n",
    "\n",
    "# trestbps = widgets.FloatText(\n",
    "#         description='Enter resting blood pressure:',\n",
    "#         style=style\n",
    "#     )\n",
    "\n",
    "chol = widgets.FloatText(\n",
    "        description='Enter cholesterol level in mg/dl:',\n",
    "        style=style\n",
    "    )\n",
    "\n",
    "fbs = widgets.RadioButtons( \n",
    "        options=[('Yes', 1), ('No', 0)],\n",
    "        value=1,\n",
    "        layout={'width': 'max-content'},\n",
    "        description='Is your fasting blood sugar over 120 mg/dl?',\n",
    "        style=style\n",
    "    )\n",
    "\n",
    "# restecg = widgets.RadioButtons( \n",
    "#         options=[('Normal',0), ('An ST elevation or depression > .05 mV',1),\n",
    "#                  ('Demonstrating a probable or definite left ventricular hypertrophy',2)],\n",
    "#         value=0,\n",
    "#         layout={'width': 'max-content'},\n",
    "#         description='Which classification does your ECG fall within?',\n",
    "#         style=style\n",
    "#     )\n",
    "\n",
    "thalach = widgets.FloatText(\n",
    "        description='Enter maximum heart rate achieved:',\n",
    "        style=style\n",
    "    )\n",
    "\n",
    "exang = widgets.RadioButtons(\n",
    "        options=[('Yes', 1), ('No', 0)],\n",
    "        value=1, \n",
    "        description='Do you have exercise induced angina?',\n",
    "        style=style\n",
    "    )\n",
    "\n",
    "# oldpeak = widgets.FloatText( #what's max?\n",
    "#         description='Enter exercise relative to rest:',\n",
    "#         style=style\n",
    "#     )\n",
    "\n",
    "# slope = widgets.Dropdown( \n",
    "#         options=['1', '2', '3'],\n",
    "#         value='1',\n",
    "#         description='Enter ST/heart rate slope:',\n",
    "#         style=style\n",
    "#     )\n",
    "\n",
    "ca = widgets.Dropdown( #what \n",
    "        options=['0', '1', '2', '3'],\n",
    "        value='0',\n",
    "        layout={'width': 'max-content'},\n",
    "        description='How many major vessels are colored by fluoroscopy?',\n",
    "        style=style\n",
    "    )\n",
    "\n",
    "thal = widgets.RadioButtons( \n",
    "        options=[('No', 3), ('Yes, fixed defect', 6),('Yes, reversable defect',7)],\n",
    "        value=3,\n",
    "        layout={'width': 'max-content'},\n",
    "        description='Do you have/have you had thalassemia?',\n",
    "        style=style\n",
    "    )"
   ]
  },
  {
   "cell_type": "code",
   "execution_count": 6,
   "metadata": {},
   "outputs": [],
   "source": [
    "import matplotlib.pyplot as plt\n",
    "import numpy as np\n",
    "import math\n",
    "import pandas as pd\n",
    "from sklearn.model_selection import train_test_split\n",
    "from sklearn.metrics import precision_score, recall_score\n",
    "from sklearn.preprocessing import MinMaxScaler\n",
    "from sklearn.linear_model import LogisticRegression\n",
    "from sklearn.linear_model import LinearRegression\n",
    "\n",
    "from sklearn import linear_model\n",
    "logr = linear_model.LogisticRegression(C=0.012742749857031334, class_weight=None, dual=False,\n",
    "                   fit_intercept=True, intercept_scaling=1, l1_ratio=None,\n",
    "                   max_iter=1000, multi_class='auto', n_jobs=None, penalty='l2',\n",
    "                   random_state=None, solver='newton-cg', tol=0.0001, verbose=0,\n",
    "                   warm_start=False)\n",
    "\n",
    "df = pd.read_csv('preprocessed_data.csv')\n",
    "df = df.iloc[1:]"
   ]
  },
  {
   "cell_type": "code",
   "execution_count": 7,
   "metadata": {},
   "outputs": [],
   "source": [
    "y = df['target']\n",
    "x = df[['age','sex','cp','trestbps','chol','fbs','restecg','thalach','exang','oldpeak','slope','ca','thal']]\n",
    "X = x.drop(['trestbps', 'restecg', 'oldpeak', 'slope'], axis = 1)\n",
    "\n",
    "X_train = X[89:]\n",
    "X_test = X[:89]\n",
    "y_train = y[89:]\n",
    "y_test = y[:89]"
   ]
  },
  {
   "cell_type": "code",
   "execution_count": 8,
   "metadata": {},
   "outputs": [
    {
     "name": "stdout",
     "output_type": "stream",
     "text": [
      "\n"
     ]
    }
   ],
   "source": [
    "logr.fit(X_train,y_train)\n",
    "\n",
    "# y_pred = logr.predict(X_test)\n",
    "# y_true = y_test.values.tolist()\n",
    "\n",
    "# rec_logr = recall_score(y_true, y_pred, average='macro')\n",
    "\n",
    "logr.fit(X,y)\n",
    "print()"
   ]
  },
  {
   "cell_type": "code",
   "execution_count": 9,
   "metadata": {},
   "outputs": [],
   "source": [
    "button_send = widgets.Button(\n",
    "                description='Calculate results',\n",
    "                tooltip='Send',\n",
    "                style={'description_width': 'initial'}\n",
    "            )\n",
    "\n",
    "output = widgets.Output()\n",
    "\n",
    "def on_button_clicked(event): \n",
    "    with output:\n",
    "        clear_output()\n",
    "        array = [age.value, sex.value, cp.value, chol.value, fbs.value, \n",
    "                 thalach.value, exang.value, ca.value, thal.value]\n",
    "#         array = [age.value, sex.value, cp.value, trestbps.value, chol.value, fbs.value, restecg.value, \n",
    "#                  thalach.value, exang.value, oldpeak.value, slope.value, ca.value, thal.value]\n",
    "        const = np.array(array, dtype=np.float64)\n",
    "        result = logr.predict([const])\n",
    "        if (result==0):\n",
    "            print(\"Per the model, you are expected not to have heart disease\")\n",
    "        else:\n",
    "            print(\"Per the model, you are expected to have heart disease\")\n",
    "        \n",
    "button_send.on_click(on_button_clicked)\n",
    "\n",
    "vbox_result = widgets.VBox([button_send, output])"
   ]
  },
  {
   "cell_type": "code",
   "execution_count": 10,
   "metadata": {},
   "outputs": [
    {
     "data": {
      "application/vnd.jupyter.widget-view+json": {
       "model_id": "09e49a5fe9e8444ebb20b68684730a9c",
       "version_major": 2,
       "version_minor": 0
      },
      "text/plain": [
       "VBox(children=(VBox(children=(Image(value=b'\\xff\\xd8\\xff\\xe1\\x0b\\xd6Exif\\x00\\x00MM\\x00*\\x00\\x00\\x00\\x08\\x00\\x0…"
      ]
     },
     "metadata": {},
     "output_type": "display_data"
    }
   ],
   "source": [
    "vbox_text = widgets.VBox([text_0, text_1, age, text_3, sex, cp, chol, \n",
    "                          fbs, thalach, exang, ca, thal, vbox_result])\n",
    "\n",
    "page = widgets.VBox([vbox_headline, vbox_text])\n",
    "display(page)"
   ]
  },
  {
   "cell_type": "code",
   "execution_count": null,
   "metadata": {},
   "outputs": [],
   "source": []
  }
 ],
 "metadata": {
  "kernelspec": {
   "display_name": "Python 3",
   "language": "python",
   "name": "python3"
  },
  "language_info": {
   "codemirror_mode": {
    "name": "ipython",
    "version": 3
   },
   "file_extension": ".py",
   "mimetype": "text/x-python",
   "name": "python",
   "nbconvert_exporter": "python",
   "pygments_lexer": "ipython3",
   "version": "3.8.5"
  }
 },
 "nbformat": 4,
 "nbformat_minor": 4
}
